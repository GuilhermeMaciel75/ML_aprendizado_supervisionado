{
  "nbformat": 4,
  "nbformat_minor": 0,
  "metadata": {
    "colab": {
      "provenance": [],
      "authorship_tag": "ABX9TyNkXVK08eQ4vFqetLo0KVPJ"
    },
    "kernelspec": {
      "name": "python3",
      "display_name": "Python 3"
    },
    "language_info": {
      "name": "python"
    },
    "accelerator": "GPU",
    "gpuClass": "standard"
  },
  "cells": [
    {
      "cell_type": "code",
      "source": [
        "from sklearn.neighbors import KNeighborsClassifier\n",
        "from sklearn.model_selection import train_test_split, cross_val_score\n",
        "from sklearn.metrics import accuracy_score\n",
        "from scipy.spatial import distance\n",
        "import pandas as pd\n",
        "import numpy as np"
      ],
      "metadata": {
        "id": "Bb6RJjCQtt93"
      },
      "execution_count": 17,
      "outputs": []
    },
    {
      "cell_type": "markdown",
      "source": [
        "## Pré-processamento dos dados"
      ],
      "metadata": {
        "id": "3_uNqlSm5HAb"
      }
    },
    {
      "cell_type": "code",
      "source": [
        "#Lendo o banco de dados\n",
        "df = pd.read_csv(\"Cancer_Data.csv\")\n",
        "\n",
        "#Separando os labels e os valores\n",
        "dataValues = df.iloc[:, 2:-1].values\n",
        "dataLabels = df.iloc[:, 1:2].values\n",
        "\n",
        "\n",
        "#Normalizando os valores antes de realizar o treino\n",
        "data = (dataValues - np.mean(dataValues, axis=0)) / np.std(dataValues, axis=0)"
      ],
      "metadata": {
        "id": "O9myzzIWtzfG"
      },
      "execution_count": 18,
      "outputs": []
    },
    {
      "cell_type": "markdown",
      "source": [
        "#Percorrendo o algoritmo KNN com diferentes números de k e métricas"
      ],
      "metadata": {
        "id": "dhSax50G5OWa"
      }
    },
    {
      "cell_type": "code",
      "source": [
        "# divide os dados em conjunto de treinamento e conjunto de teste\n",
        "X_train, X_test, y_train, y_test = train_test_split(data, dataLabels, random_state=0)\n",
        "\n",
        "# define as métricas de distância\n",
        "metrics = [distance.euclidean, distance.cityblock, distance.minkowski, distance.hamming]\n",
        "\n",
        "# lista com os valores de k a serem testados\n",
        "k_values = list(range(1, 16))\n",
        "\n",
        "accuracy_dict = {}\n",
        "\n",
        "for metric in metrics:\n",
        "    accuracy_list = []\n",
        "    \n",
        "    for k in k_values:\n",
        "        # cria o classificador KNN\n",
        "        knn = KNeighborsClassifier(n_neighbors=k, metric=metric)\n",
        "        \n",
        "        # realiza a validação cruzada\n",
        "        scores = cross_val_score(knn, X_train, y_train.ravel(), cv=5, scoring='accuracy')\n",
        "        \n",
        "        # calcula a acurácia média e coloca na lista\n",
        "        accuracy_mean = np.mean(scores)\n",
        "        accuracy_list.append(accuracy_mean)\n",
        "    \n",
        "    accuracy_dict[metric.__name__] = accuracy_list\n",
        "    \n",
        "for metric_name, accuracy_list in accuracy_dict.items():\n",
        "    print('Métrica de distância:', metric_name)\n",
        "    for k, accuracy in zip(k_values, accuracy_list):\n",
        "        print(f'k = {k}, Acurácia média = {accuracy:.3f}')\n",
        "    print()"
      ],
      "metadata": {
        "colab": {
          "base_uri": "https://localhost:8080/"
        },
        "id": "RBrKfSPlt3DX",
        "outputId": "2b862e66-b85c-49c0-86f7-c13694f7b008"
      },
      "execution_count": 19,
      "outputs": [
        {
          "output_type": "stream",
          "name": "stdout",
          "text": [
            "Métrica de distância: euclidean\n",
            "k = 1, Acurácia média = 0.948\n",
            "k = 2, Acurácia média = 0.948\n",
            "k = 3, Acurácia média = 0.960\n",
            "k = 4, Acurácia média = 0.960\n",
            "k = 5, Acurácia média = 0.962\n",
            "k = 6, Acurácia média = 0.960\n",
            "k = 7, Acurácia média = 0.962\n",
            "k = 8, Acurácia média = 0.965\n",
            "k = 9, Acurácia média = 0.963\n",
            "k = 10, Acurácia média = 0.958\n",
            "k = 11, Acurácia média = 0.955\n",
            "k = 12, Acurácia média = 0.951\n",
            "k = 13, Acurácia média = 0.953\n",
            "k = 14, Acurácia média = 0.953\n",
            "k = 15, Acurácia média = 0.960\n",
            "\n",
            "Métrica de distância: cityblock\n",
            "k = 1, Acurácia média = 0.953\n",
            "k = 2, Acurácia média = 0.953\n",
            "k = 3, Acurácia média = 0.965\n",
            "k = 4, Acurácia média = 0.960\n",
            "k = 5, Acurácia média = 0.965\n",
            "k = 6, Acurácia média = 0.960\n",
            "k = 7, Acurácia média = 0.963\n",
            "k = 8, Acurácia média = 0.960\n",
            "k = 9, Acurácia média = 0.965\n",
            "k = 10, Acurácia média = 0.958\n",
            "k = 11, Acurácia média = 0.958\n",
            "k = 12, Acurácia média = 0.953\n",
            "k = 13, Acurácia média = 0.955\n",
            "k = 14, Acurácia média = 0.951\n",
            "k = 15, Acurácia média = 0.955\n",
            "\n",
            "Métrica de distância: minkowski\n",
            "k = 1, Acurácia média = 0.948\n",
            "k = 2, Acurácia média = 0.948\n",
            "k = 3, Acurácia média = 0.960\n",
            "k = 4, Acurácia média = 0.960\n",
            "k = 5, Acurácia média = 0.962\n",
            "k = 6, Acurácia média = 0.960\n",
            "k = 7, Acurácia média = 0.962\n",
            "k = 8, Acurácia média = 0.965\n",
            "k = 9, Acurácia média = 0.963\n",
            "k = 10, Acurácia média = 0.958\n",
            "k = 11, Acurácia média = 0.955\n",
            "k = 12, Acurácia média = 0.951\n",
            "k = 13, Acurácia média = 0.953\n",
            "k = 14, Acurácia média = 0.953\n",
            "k = 15, Acurácia média = 0.960\n",
            "\n",
            "Métrica de distância: hamming\n",
            "k = 1, Acurácia média = 0.648\n",
            "k = 2, Acurácia média = 0.655\n",
            "k = 3, Acurácia média = 0.660\n",
            "k = 4, Acurácia média = 0.669\n",
            "k = 5, Acurácia média = 0.671\n",
            "k = 6, Acurácia média = 0.688\n",
            "k = 7, Acurácia média = 0.669\n",
            "k = 8, Acurácia média = 0.664\n",
            "k = 9, Acurácia média = 0.645\n",
            "k = 10, Acurácia média = 0.643\n",
            "k = 11, Acurácia média = 0.631\n",
            "k = 12, Acurácia média = 0.645\n",
            "k = 13, Acurácia média = 0.645\n",
            "k = 14, Acurácia média = 0.648\n",
            "k = 15, Acurácia média = 0.643\n",
            "\n"
          ]
        }
      ]
    },
    {
      "cell_type": "markdown",
      "source": [
        "#Resultado final de cada métrica de distância com o maior valor de acurácia média"
      ],
      "metadata": {
        "id": "TnDQsNJv5XbJ"
      }
    },
    {
      "cell_type": "code",
      "source": [
        "for metric_name, accuracy_list in accuracy_dict.items():\n",
        "    # encontra o maior valor de acurácia média e qual foi o k correspondente\n",
        "    max_accuracy = max(accuracy_list)\n",
        "    max_k = k_values[accuracy_list.index(max_accuracy)]\n",
        "    \n",
        "    print(f'Métrica de distância: {metric_name}')\n",
        "    print(f'Maior acurácia média: {max_accuracy:.3f} (k = {max_k}) \\n')"
      ],
      "metadata": {
        "colab": {
          "base_uri": "https://localhost:8080/"
        },
        "id": "CHEtQKU_37Vb",
        "outputId": "c76a2736-9344-44b1-e1c5-689fbf53bc4e"
      },
      "execution_count": 20,
      "outputs": [
        {
          "output_type": "stream",
          "name": "stdout",
          "text": [
            "Métrica de distância: euclidean\n",
            "Maior acurácia média: 0.965 (k = 8) \n",
            "\n",
            "Métrica de distância: cityblock\n",
            "Maior acurácia média: 0.965 (k = 9) \n",
            "\n",
            "Métrica de distância: minkowski\n",
            "Maior acurácia média: 0.965 (k = 8) \n",
            "\n",
            "Métrica de distância: hamming\n",
            "Maior acurácia média: 0.688 (k = 6) \n",
            "\n"
          ]
        }
      ]
    }
  ]
}